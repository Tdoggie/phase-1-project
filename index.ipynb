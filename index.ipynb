{
 "cells": [
  {
   "cell_type": "markdown",
   "metadata": {},
   "source": [
    "#  Aircraft Risk Analysis for Business Expansion  \n",
    "\n",
    "## ✈️ Introduction  \n",
    "As part of the company's diversification strategy, they are exploring the aviation industry. However, operating aircrafts come with inherent risks. To make informed investment decisions, they must assess which aircraft types pose the **lowest operational risk** based on historical accident data.  \n",
    "\n",
    "In this project, I will analyze **aviation accident data (1962–2023)** from the National Transportation Safety Board (NTSB) to:  \n",
    "- **Identify risk factors** associated with aircraft accidents.  \n",
    "- **Determine the safest aircraft types** for commercial and private operations.  \n",
    "- **Provide actionable insights** to the aviation division for selecting aircraft with minimal risk.  \n",
    "\n",
    "Using **data cleaning, imputation, analysis, and visualization**, we aim to transform raw aviation data into meaningful business insights.  \n"
   ]
  },
  {
   "cell_type": "markdown",
   "metadata": {},
   "source": [
    "## 🔍 Methodology: Approach to Aircraft Risk Analysis  \n",
    "\n",
    "To ensure a **thorough and accurate** assessment of aircraft risk, this notebook follows a structured approach:  \n",
    "\n",
    "### 1️⃣ Data Exploration  \n",
    "- Load and inspect the dataset to understand its structure and key attributes.  \n",
    "- Identify missing values, inconsistencies, and potential data quality issues.  \n",
    "\n",
    "### 2️⃣ Data Cleaning & Preprocessing  \n",
    "- Handle missing values through imputation or removal where necessary.  \n",
    "- Standardize formats and correct inconsistencies.  \n",
    "- Filter relevant data to focus on meaningful insights.  \n",
    "\n",
    "### 3️⃣ Data Visualization  \n",
    "- Use **charts, graphs, and interactive visualizations** to identify trends and patterns in accident occurrences.  \n",
    "- Compare accident rates across different aircraft types, years, and other factors.  \n",
    "\n",
    "### 4️⃣ Risk Analysis & Insights Generation  \n",
    "- Perform Basic **statistical analysis** to determine the most and least risky aircraft.  \n",
    "- Identify key **risk factors** influencing accident likelihood.  \n",
    "- Correlate accident severity with aircraft type, age, and operational conditions.  \n",
    "\n",
    "### 5️⃣ Business Recommendations  \n",
    "- Summarize key findings in a clear format.  \n",
    "- Provide **data-driven recommendations** to the aviation division on the safest aircraft for investment.  \n",
    "【1】 **Step 1:** Check dataset shape (`df.shape`)  \n",
    "【2】 **Step 2:** Get column info (`df.info()`)  \n",
    "【3】 **Step 3:** View summary statistics (`df.describe()`)  \n",
    "【4】 **Step 4:** Check missing values (`df.isnull().sum()`)  \n",
    "【5】 **Step 5:** Identify unique categories (`df['Aircraft Type'].unique()`)  \n",
    "【6】 **Step 6:** Detect duplicate records (`df.duplicated().sum()`)  \n"
   ]
  },
  {
   "cell_type": "markdown",
   "metadata": {},
   "source": [
    "### 【1】Data Exploration  "
   ]
  },
  {
   "cell_type": "code",
   "execution_count": 1,
   "metadata": {},
   "outputs": [],
   "source": [
    "# Import essential libraries for data analysis and visualization  \n",
    "import pandas as pd                 # Data manipulation and analysis  \n",
    "import matplotlib.pyplot as plt     # Data visualization  \n",
    "import seaborn as sns               # Statistical Data visualization  "
   ]
  },
  {
   "cell_type": "code",
   "execution_count": null,
   "metadata": {},
   "outputs": [
    {
     "name": "stderr",
     "output_type": "stream",
     "text": [
      "C:\\Users\\vihaa\\AppData\\Local\\Temp\\ipykernel_16740\\316172696.py:2: DtypeWarning: Columns (6,7,28) have mixed types. Specify dtype option on import or set low_memory=False.\n",
      "  df = pd.read_csv(\"Data/Aviation_Data.csv\")\n"
     ]
    },
    {
     "data": {
      "application/vnd.microsoft.datawrangler.viewer.v0+json": {
       "columns": [
        {
         "name": "index",
         "rawType": "int64",
         "type": "integer"
        },
        {
         "name": "Event.Id",
         "rawType": "object",
         "type": "string"
        },
        {
         "name": "Investigation.Type",
         "rawType": "object",
         "type": "string"
        },
        {
         "name": "Accident.Number",
         "rawType": "object",
         "type": "string"
        },
        {
         "name": "Event.Date",
         "rawType": "object",
         "type": "string"
        },
        {
         "name": "Location",
         "rawType": "object",
         "type": "string"
        },
        {
         "name": "Country",
         "rawType": "object",
         "type": "string"
        },
        {
         "name": "Latitude",
         "rawType": "object",
         "type": "unknown"
        },
        {
         "name": "Longitude",
         "rawType": "object",
         "type": "unknown"
        },
        {
         "name": "Airport.Code",
         "rawType": "object",
         "type": "unknown"
        },
        {
         "name": "Airport.Name",
         "rawType": "object",
         "type": "unknown"
        },
        {
         "name": "Injury.Severity",
         "rawType": "object",
         "type": "string"
        },
        {
         "name": "Aircraft.damage",
         "rawType": "object",
         "type": "string"
        },
        {
         "name": "Aircraft.Category",
         "rawType": "object",
         "type": "unknown"
        },
        {
         "name": "Registration.Number",
         "rawType": "object",
         "type": "string"
        },
        {
         "name": "Make",
         "rawType": "object",
         "type": "string"
        },
        {
         "name": "Model",
         "rawType": "object",
         "type": "string"
        },
        {
         "name": "Amateur.Built",
         "rawType": "object",
         "type": "string"
        },
        {
         "name": "Number.of.Engines",
         "rawType": "float64",
         "type": "float"
        },
        {
         "name": "Engine.Type",
         "rawType": "object",
         "type": "unknown"
        },
        {
         "name": "FAR.Description",
         "rawType": "object",
         "type": "unknown"
        },
        {
         "name": "Schedule",
         "rawType": "object",
         "type": "unknown"
        },
        {
         "name": "Purpose.of.flight",
         "rawType": "object",
         "type": "string"
        },
        {
         "name": "Air.carrier",
         "rawType": "object",
         "type": "unknown"
        },
        {
         "name": "Total.Fatal.Injuries",
         "rawType": "float64",
         "type": "float"
        },
        {
         "name": "Total.Serious.Injuries",
         "rawType": "float64",
         "type": "float"
        },
        {
         "name": "Total.Minor.Injuries",
         "rawType": "float64",
         "type": "float"
        },
        {
         "name": "Total.Uninjured",
         "rawType": "float64",
         "type": "float"
        },
        {
         "name": "Weather.Condition",
         "rawType": "object",
         "type": "string"
        },
        {
         "name": "Broad.phase.of.flight",
         "rawType": "object",
         "type": "string"
        },
        {
         "name": "Report.Status",
         "rawType": "object",
         "type": "string"
        },
        {
         "name": "Publication.Date",
         "rawType": "object",
         "type": "unknown"
        }
       ],
       "conversionMethod": "pd.DataFrame",
       "ref": "62f19f59-cc45-460d-8b5b-8c81716b8bf6",
       "rows": [
        [
         "0",
         "20001218X45444",
         "Accident",
         "SEA87LA080",
         "1948-10-24",
         "MOOSE CREEK, ID",
         "United States",
         null,
         null,
         null,
         null,
         "Fatal(2)",
         "Destroyed",
         null,
         "NC6404",
         "Stinson",
         "108-3",
         "No",
         "1.0",
         "Reciprocating",
         null,
         null,
         "Personal",
         null,
         "2.0",
         "0.0",
         "0.0",
         "0.0",
         "UNK",
         "Cruise",
         "Probable Cause",
         null
        ],
        [
         "1",
         "20001218X45447",
         "Accident",
         "LAX94LA336",
         "1962-07-19",
         "BRIDGEPORT, CA",
         "United States",
         null,
         null,
         null,
         null,
         "Fatal(4)",
         "Destroyed",
         null,
         "N5069P",
         "Piper",
         "PA24-180",
         "No",
         "1.0",
         "Reciprocating",
         null,
         null,
         "Personal",
         null,
         "4.0",
         "0.0",
         "0.0",
         "0.0",
         "UNK",
         "Unknown",
         "Probable Cause",
         "19-09-1996"
        ],
        [
         "2",
         "20061025X01555",
         "Accident",
         "NYC07LA005",
         "1974-08-30",
         "Saltville, VA",
         "United States",
         "36.922223",
         "-81.878056",
         null,
         null,
         "Fatal(3)",
         "Destroyed",
         null,
         "N5142R",
         "Cessna",
         "172M",
         "No",
         "1.0",
         "Reciprocating",
         null,
         null,
         "Personal",
         null,
         "3.0",
         null,
         null,
         null,
         "IMC",
         "Cruise",
         "Probable Cause",
         "26-02-2007"
        ],
        [
         "3",
         "20001218X45448",
         "Accident",
         "LAX96LA321",
         "1977-06-19",
         "EUREKA, CA",
         "United States",
         null,
         null,
         null,
         null,
         "Fatal(2)",
         "Destroyed",
         null,
         "N1168J",
         "Rockwell",
         "112",
         "No",
         "1.0",
         "Reciprocating",
         null,
         null,
         "Personal",
         null,
         "2.0",
         "0.0",
         "0.0",
         "0.0",
         "IMC",
         "Cruise",
         "Probable Cause",
         "12-09-2000"
        ],
        [
         "4",
         "20041105X01764",
         "Accident",
         "CHI79FA064",
         "1979-08-02",
         "Canton, OH",
         "United States",
         null,
         null,
         null,
         null,
         "Fatal(1)",
         "Destroyed",
         null,
         "N15NY",
         "Cessna",
         "501",
         "No",
         null,
         null,
         null,
         null,
         "Personal",
         null,
         "1.0",
         "2.0",
         null,
         "0.0",
         "VMC",
         "Approach",
         "Probable Cause",
         "16-04-1980"
        ]
       ],
       "shape": {
        "columns": 31,
        "rows": 5
       }
      },
      "text/html": [
       "<div>\n",
       "<style scoped>\n",
       "    .dataframe tbody tr th:only-of-type {\n",
       "        vertical-align: middle;\n",
       "    }\n",
       "\n",
       "    .dataframe tbody tr th {\n",
       "        vertical-align: top;\n",
       "    }\n",
       "\n",
       "    .dataframe thead th {\n",
       "        text-align: right;\n",
       "    }\n",
       "</style>\n",
       "<table border=\"1\" class=\"dataframe\">\n",
       "  <thead>\n",
       "    <tr style=\"text-align: right;\">\n",
       "      <th></th>\n",
       "      <th>Event.Id</th>\n",
       "      <th>Investigation.Type</th>\n",
       "      <th>Accident.Number</th>\n",
       "      <th>Event.Date</th>\n",
       "      <th>Location</th>\n",
       "      <th>Country</th>\n",
       "      <th>Latitude</th>\n",
       "      <th>Longitude</th>\n",
       "      <th>Airport.Code</th>\n",
       "      <th>Airport.Name</th>\n",
       "      <th>...</th>\n",
       "      <th>Purpose.of.flight</th>\n",
       "      <th>Air.carrier</th>\n",
       "      <th>Total.Fatal.Injuries</th>\n",
       "      <th>Total.Serious.Injuries</th>\n",
       "      <th>Total.Minor.Injuries</th>\n",
       "      <th>Total.Uninjured</th>\n",
       "      <th>Weather.Condition</th>\n",
       "      <th>Broad.phase.of.flight</th>\n",
       "      <th>Report.Status</th>\n",
       "      <th>Publication.Date</th>\n",
       "    </tr>\n",
       "  </thead>\n",
       "  <tbody>\n",
       "    <tr>\n",
       "      <th>0</th>\n",
       "      <td>20001218X45444</td>\n",
       "      <td>Accident</td>\n",
       "      <td>SEA87LA080</td>\n",
       "      <td>1948-10-24</td>\n",
       "      <td>MOOSE CREEK, ID</td>\n",
       "      <td>United States</td>\n",
       "      <td>NaN</td>\n",
       "      <td>NaN</td>\n",
       "      <td>NaN</td>\n",
       "      <td>NaN</td>\n",
       "      <td>...</td>\n",
       "      <td>Personal</td>\n",
       "      <td>NaN</td>\n",
       "      <td>2.0</td>\n",
       "      <td>0.0</td>\n",
       "      <td>0.0</td>\n",
       "      <td>0.0</td>\n",
       "      <td>UNK</td>\n",
       "      <td>Cruise</td>\n",
       "      <td>Probable Cause</td>\n",
       "      <td>NaN</td>\n",
       "    </tr>\n",
       "    <tr>\n",
       "      <th>1</th>\n",
       "      <td>20001218X45447</td>\n",
       "      <td>Accident</td>\n",
       "      <td>LAX94LA336</td>\n",
       "      <td>1962-07-19</td>\n",
       "      <td>BRIDGEPORT, CA</td>\n",
       "      <td>United States</td>\n",
       "      <td>NaN</td>\n",
       "      <td>NaN</td>\n",
       "      <td>NaN</td>\n",
       "      <td>NaN</td>\n",
       "      <td>...</td>\n",
       "      <td>Personal</td>\n",
       "      <td>NaN</td>\n",
       "      <td>4.0</td>\n",
       "      <td>0.0</td>\n",
       "      <td>0.0</td>\n",
       "      <td>0.0</td>\n",
       "      <td>UNK</td>\n",
       "      <td>Unknown</td>\n",
       "      <td>Probable Cause</td>\n",
       "      <td>19-09-1996</td>\n",
       "    </tr>\n",
       "    <tr>\n",
       "      <th>2</th>\n",
       "      <td>20061025X01555</td>\n",
       "      <td>Accident</td>\n",
       "      <td>NYC07LA005</td>\n",
       "      <td>1974-08-30</td>\n",
       "      <td>Saltville, VA</td>\n",
       "      <td>United States</td>\n",
       "      <td>36.922223</td>\n",
       "      <td>-81.878056</td>\n",
       "      <td>NaN</td>\n",
       "      <td>NaN</td>\n",
       "      <td>...</td>\n",
       "      <td>Personal</td>\n",
       "      <td>NaN</td>\n",
       "      <td>3.0</td>\n",
       "      <td>NaN</td>\n",
       "      <td>NaN</td>\n",
       "      <td>NaN</td>\n",
       "      <td>IMC</td>\n",
       "      <td>Cruise</td>\n",
       "      <td>Probable Cause</td>\n",
       "      <td>26-02-2007</td>\n",
       "    </tr>\n",
       "    <tr>\n",
       "      <th>3</th>\n",
       "      <td>20001218X45448</td>\n",
       "      <td>Accident</td>\n",
       "      <td>LAX96LA321</td>\n",
       "      <td>1977-06-19</td>\n",
       "      <td>EUREKA, CA</td>\n",
       "      <td>United States</td>\n",
       "      <td>NaN</td>\n",
       "      <td>NaN</td>\n",
       "      <td>NaN</td>\n",
       "      <td>NaN</td>\n",
       "      <td>...</td>\n",
       "      <td>Personal</td>\n",
       "      <td>NaN</td>\n",
       "      <td>2.0</td>\n",
       "      <td>0.0</td>\n",
       "      <td>0.0</td>\n",
       "      <td>0.0</td>\n",
       "      <td>IMC</td>\n",
       "      <td>Cruise</td>\n",
       "      <td>Probable Cause</td>\n",
       "      <td>12-09-2000</td>\n",
       "    </tr>\n",
       "    <tr>\n",
       "      <th>4</th>\n",
       "      <td>20041105X01764</td>\n",
       "      <td>Accident</td>\n",
       "      <td>CHI79FA064</td>\n",
       "      <td>1979-08-02</td>\n",
       "      <td>Canton, OH</td>\n",
       "      <td>United States</td>\n",
       "      <td>NaN</td>\n",
       "      <td>NaN</td>\n",
       "      <td>NaN</td>\n",
       "      <td>NaN</td>\n",
       "      <td>...</td>\n",
       "      <td>Personal</td>\n",
       "      <td>NaN</td>\n",
       "      <td>1.0</td>\n",
       "      <td>2.0</td>\n",
       "      <td>NaN</td>\n",
       "      <td>0.0</td>\n",
       "      <td>VMC</td>\n",
       "      <td>Approach</td>\n",
       "      <td>Probable Cause</td>\n",
       "      <td>16-04-1980</td>\n",
       "    </tr>\n",
       "  </tbody>\n",
       "</table>\n",
       "<p>5 rows × 31 columns</p>\n",
       "</div>"
      ],
      "text/plain": [
       "         Event.Id Investigation.Type Accident.Number  Event.Date  \\\n",
       "0  20001218X45444           Accident      SEA87LA080  1948-10-24   \n",
       "1  20001218X45447           Accident      LAX94LA336  1962-07-19   \n",
       "2  20061025X01555           Accident      NYC07LA005  1974-08-30   \n",
       "3  20001218X45448           Accident      LAX96LA321  1977-06-19   \n",
       "4  20041105X01764           Accident      CHI79FA064  1979-08-02   \n",
       "\n",
       "          Location        Country   Latitude  Longitude Airport.Code  \\\n",
       "0  MOOSE CREEK, ID  United States        NaN        NaN          NaN   \n",
       "1   BRIDGEPORT, CA  United States        NaN        NaN          NaN   \n",
       "2    Saltville, VA  United States  36.922223 -81.878056          NaN   \n",
       "3       EUREKA, CA  United States        NaN        NaN          NaN   \n",
       "4       Canton, OH  United States        NaN        NaN          NaN   \n",
       "\n",
       "  Airport.Name  ... Purpose.of.flight Air.carrier Total.Fatal.Injuries  \\\n",
       "0          NaN  ...          Personal         NaN                  2.0   \n",
       "1          NaN  ...          Personal         NaN                  4.0   \n",
       "2          NaN  ...          Personal         NaN                  3.0   \n",
       "3          NaN  ...          Personal         NaN                  2.0   \n",
       "4          NaN  ...          Personal         NaN                  1.0   \n",
       "\n",
       "  Total.Serious.Injuries Total.Minor.Injuries Total.Uninjured  \\\n",
       "0                    0.0                  0.0             0.0   \n",
       "1                    0.0                  0.0             0.0   \n",
       "2                    NaN                  NaN             NaN   \n",
       "3                    0.0                  0.0             0.0   \n",
       "4                    2.0                  NaN             0.0   \n",
       "\n",
       "  Weather.Condition  Broad.phase.of.flight   Report.Status Publication.Date  \n",
       "0               UNK                 Cruise  Probable Cause              NaN  \n",
       "1               UNK                Unknown  Probable Cause       19-09-1996  \n",
       "2               IMC                 Cruise  Probable Cause       26-02-2007  \n",
       "3               IMC                 Cruise  Probable Cause       12-09-2000  \n",
       "4               VMC               Approach  Probable Cause       16-04-1980  \n",
       "\n",
       "[5 rows x 31 columns]"
      ]
     },
     "execution_count": 2,
     "metadata": {},
     "output_type": "execute_result"
    }
   ],
   "source": [
    "# Load the dataset and inspect the first few rows\n",
    "df = pd.read_csv(\"Data/Aviation_Data.csv\")\n",
    "df.head()"
   ]
  },
  {
   "cell_type": "markdown",
   "metadata": {},
   "source": [
    "The dataset raised a **DtypeWarning**, meaning some columns contain **mixed data types** (e.g., numbers and text), which can cause issues during analysis; we will address this in the data cleaning stage by inspecting these columns, converting them to appropriate types, and handling inconsistencies.  \n"
   ]
  },
  {
   "cell_type": "markdown",
   "metadata": {},
   "source": [
    "As you can see from the output above, this dataset is **very extensive**, containing numerous columns with detailed aviation accident records. However, to effectively answer our **business question**, we must focus only on the most relevant data points. By narrowing down our selection, we ensure that our analysis remains **targeted, efficient, and data-driven** in making a well-informed decision.  \n",
    "\n",
    "### **Key Columns We Will Use:**  \n",
    "\n",
    "- **`Make` & `Model`** → Identifies aircraft manufacturers and specific models to compare safety records.  \n",
    "- **`Event.Date`** → Allows us to analyze accident trends over time.  \n",
    "- **`Purpose.of.flight`** → Filters for **business flights**, since our company is focused on commercial aviation.  \n",
    "- **`Broad.phase.of.flight`** → Helps identify when accidents are most likely to occur (e.g., takeoff, cruise, landing).  \n",
    "- **`Total.Fatal.Injuries`, `Total.Serious.Injuries`, `Total.Minor.Injuries`, `Total.Uninjured`** → Quantifies accident severity and survivability.  \n",
    "\n",
    "### **Why These Columns?**  \n",
    "These fields provide **direct insights into aircraft risk levels** by showing:  \n",
    "✅ Which **aircraft types** are more prone to accidents.  \n",
    "✅ The **phases of flight** where accidents occur most often.  \n",
    "✅ How accident rates have **changed over time**.  \n",
    "✅ Whether people **walk away unharmed** or if accidents are severe.  \n",
    "\n",
    "### **Note:**  \n",
    "Since this is a **U.S.-based company**, we will focus only on accidents that occurred **within the United States**. As we progress through this notebook, we will filter our dataset accordingly to remove irrelevant data and improve analysis accuracy.  \n"
   ]
  },
  {
   "cell_type": "code",
   "execution_count": 4,
   "metadata": {},
   "outputs": [
    {
     "data": {
      "text/plain": [
       "(90348, 31)"
      ]
     },
     "execution_count": 4,
     "metadata": {},
     "output_type": "execute_result"
    }
   ],
   "source": [
    "# Check the dimensions of the dataset (rows, columns)\n",
    "df.shape"
   ]
  },
  {
   "cell_type": "code",
   "execution_count": null,
   "metadata": {},
   "outputs": [
    {
     "name": "stdout",
     "output_type": "stream",
     "text": [
      "<class 'pandas.core.frame.DataFrame'>\n",
      "RangeIndex: 90348 entries, 0 to 90347\n",
      "Data columns (total 31 columns):\n",
      " #   Column                  Non-Null Count  Dtype  \n",
      "---  ------                  --------------  -----  \n",
      " 0   Event.Id                88889 non-null  object \n",
      " 1   Investigation.Type      90348 non-null  object \n",
      " 2   Accident.Number         88889 non-null  object \n",
      " 3   Event.Date              88889 non-null  object \n",
      " 4   Location                88837 non-null  object \n",
      " 5   Country                 88663 non-null  object \n",
      " 6   Latitude                34382 non-null  object \n",
      " 7   Longitude               34373 non-null  object \n",
      " 8   Airport.Code            50132 non-null  object \n",
      " 9   Airport.Name            52704 non-null  object \n",
      " 10  Injury.Severity         87889 non-null  object \n",
      " 11  Aircraft.damage         85695 non-null  object \n",
      " 12  Aircraft.Category       32287 non-null  object \n",
      " 13  Registration.Number     87507 non-null  object \n",
      " 14  Make                    88826 non-null  object \n",
      " 15  Model                   88797 non-null  object \n",
      " 16  Amateur.Built           88787 non-null  object \n",
      " 17  Number.of.Engines       82805 non-null  float64\n",
      " 18  Engine.Type             81793 non-null  object \n",
      " 19  FAR.Description         32023 non-null  object \n",
      " 20  Schedule                12582 non-null  object \n",
      " 21  Purpose.of.flight       82697 non-null  object \n",
      " 22  Air.carrier             16648 non-null  object \n",
      " 23  Total.Fatal.Injuries    77488 non-null  float64\n",
      " 24  Total.Serious.Injuries  76379 non-null  float64\n",
      " 25  Total.Minor.Injuries    76956 non-null  float64\n",
      " 26  Total.Uninjured         82977 non-null  float64\n",
      " 27  Weather.Condition       84397 non-null  object \n",
      " 28  Broad.phase.of.flight   61724 non-null  object \n",
      " 29  Report.Status           82505 non-null  object \n",
      " 30  Publication.Date        73659 non-null  object \n",
      "dtypes: float64(5), object(26)\n",
      "memory usage: 21.4+ MB\n"
     ]
    }
   ],
   "source": [
    "# View a summary of the dataset columns\n",
    "df.info()"
   ]
  },
  {
   "cell_type": "code",
   "execution_count": 6,
   "metadata": {},
   "outputs": [
    {
     "data": {
      "text/plain": [
       "Event.Id                   1459\n",
       "Investigation.Type            0\n",
       "Accident.Number            1459\n",
       "Event.Date                 1459\n",
       "Location                   1511\n",
       "Country                    1685\n",
       "Latitude                  55966\n",
       "Longitude                 55975\n",
       "Airport.Code              40216\n",
       "Airport.Name              37644\n",
       "Injury.Severity            2459\n",
       "Aircraft.damage            4653\n",
       "Aircraft.Category         58061\n",
       "Registration.Number        2841\n",
       "Make                       1522\n",
       "Model                      1551\n",
       "Amateur.Built              1561\n",
       "Number.of.Engines          7543\n",
       "Engine.Type                8555\n",
       "FAR.Description           58325\n",
       "Schedule                  77766\n",
       "Purpose.of.flight          7651\n",
       "Air.carrier               73700\n",
       "Total.Fatal.Injuries      12860\n",
       "Total.Serious.Injuries    13969\n",
       "Total.Minor.Injuries      13392\n",
       "Total.Uninjured            7371\n",
       "Weather.Condition          5951\n",
       "Broad.phase.of.flight     28624\n",
       "Report.Status              7843\n",
       "Publication.Date          16689\n",
       "dtype: int64"
      ]
     },
     "execution_count": 6,
     "metadata": {},
     "output_type": "execute_result"
    }
   ],
   "source": [
    "# Check for missing values in each column\n",
    "df.isnull().sum()"
   ]
  },
  {
   "cell_type": "markdown",
   "metadata": {},
   "source": [
    "From the output above, we can see that many columns contain a significant number of missing values. This presents a challenge because incomplete data can lead to inaccurate visualizations and misleading analysis.  \n",
    "\n",
    "###  Why Cleaning is Necessary?  \n",
    "- **Ensures Data Accuracy** → Missing values can distort trends and patterns.  \n",
    "- **Improves Visualization** → Charts and graphs require complete data for meaningful insights.   \n",
    "\n",
    "###  Next Steps\n",
    "To ensure our **final insights are reliable and data-driven**, we need to properly handle these missing values.  \n",
    "\n",
    "In the next section, we will focus on Stage 2: **Data Cleaning**, where we will:  \n",
    "✅ Drop columns with excessive missing values.  \n",
    "✅ Fill or impute missing values where necessary.  \n",
    "✅ Filter and refine the dataset for meaningful analysis.  \n",
    "\n",
    "By carefully cleaning the data, we set the foundation for accurate **visualization and decision-making**.\n"
   ]
  },
  {
   "cell_type": "code",
   "execution_count": 7,
   "metadata": {},
   "outputs": [
    {
     "data": {
      "application/vnd.microsoft.datawrangler.viewer.v0+json": {
       "columns": [
        {
         "name": "index",
         "rawType": "object",
         "type": "string"
        },
        {
         "name": "Number.of.Engines",
         "rawType": "float64",
         "type": "float"
        },
        {
         "name": "Total.Fatal.Injuries",
         "rawType": "float64",
         "type": "float"
        },
        {
         "name": "Total.Serious.Injuries",
         "rawType": "float64",
         "type": "float"
        },
        {
         "name": "Total.Minor.Injuries",
         "rawType": "float64",
         "type": "float"
        },
        {
         "name": "Total.Uninjured",
         "rawType": "float64",
         "type": "float"
        }
       ],
       "conversionMethod": "pd.DataFrame",
       "ref": "58e58a4b-e5a4-4118-b8b8-3192af85dab4",
       "rows": [
        [
         "count",
         "82805.0",
         "77488.0",
         "76379.0",
         "76956.0",
         "82977.0"
        ],
        [
         "mean",
         "1.1465853511261397",
         "0.6478551517654346",
         "0.27988059545162935",
         "0.3570611778158948",
         "5.325439579642552"
        ],
        [
         "std",
         "0.44651021381976264",
         "5.485960107558412",
         "1.544083645233758",
         "2.2356253196561946",
         "27.913634431016277"
        ],
        [
         "min",
         "0.0",
         "0.0",
         "0.0",
         "0.0",
         "0.0"
        ],
        [
         "25%",
         "1.0",
         "0.0",
         "0.0",
         "0.0",
         "0.0"
        ],
        [
         "50%",
         "1.0",
         "0.0",
         "0.0",
         "0.0",
         "1.0"
        ],
        [
         "75%",
         "1.0",
         "0.0",
         "0.0",
         "0.0",
         "2.0"
        ],
        [
         "max",
         "8.0",
         "349.0",
         "161.0",
         "380.0",
         "699.0"
        ]
       ],
       "shape": {
        "columns": 5,
        "rows": 8
       }
      },
      "text/html": [
       "<div>\n",
       "<style scoped>\n",
       "    .dataframe tbody tr th:only-of-type {\n",
       "        vertical-align: middle;\n",
       "    }\n",
       "\n",
       "    .dataframe tbody tr th {\n",
       "        vertical-align: top;\n",
       "    }\n",
       "\n",
       "    .dataframe thead th {\n",
       "        text-align: right;\n",
       "    }\n",
       "</style>\n",
       "<table border=\"1\" class=\"dataframe\">\n",
       "  <thead>\n",
       "    <tr style=\"text-align: right;\">\n",
       "      <th></th>\n",
       "      <th>Number.of.Engines</th>\n",
       "      <th>Total.Fatal.Injuries</th>\n",
       "      <th>Total.Serious.Injuries</th>\n",
       "      <th>Total.Minor.Injuries</th>\n",
       "      <th>Total.Uninjured</th>\n",
       "    </tr>\n",
       "  </thead>\n",
       "  <tbody>\n",
       "    <tr>\n",
       "      <th>count</th>\n",
       "      <td>82805.000000</td>\n",
       "      <td>77488.000000</td>\n",
       "      <td>76379.000000</td>\n",
       "      <td>76956.000000</td>\n",
       "      <td>82977.000000</td>\n",
       "    </tr>\n",
       "    <tr>\n",
       "      <th>mean</th>\n",
       "      <td>1.146585</td>\n",
       "      <td>0.647855</td>\n",
       "      <td>0.279881</td>\n",
       "      <td>0.357061</td>\n",
       "      <td>5.325440</td>\n",
       "    </tr>\n",
       "    <tr>\n",
       "      <th>std</th>\n",
       "      <td>0.446510</td>\n",
       "      <td>5.485960</td>\n",
       "      <td>1.544084</td>\n",
       "      <td>2.235625</td>\n",
       "      <td>27.913634</td>\n",
       "    </tr>\n",
       "    <tr>\n",
       "      <th>min</th>\n",
       "      <td>0.000000</td>\n",
       "      <td>0.000000</td>\n",
       "      <td>0.000000</td>\n",
       "      <td>0.000000</td>\n",
       "      <td>0.000000</td>\n",
       "    </tr>\n",
       "    <tr>\n",
       "      <th>25%</th>\n",
       "      <td>1.000000</td>\n",
       "      <td>0.000000</td>\n",
       "      <td>0.000000</td>\n",
       "      <td>0.000000</td>\n",
       "      <td>0.000000</td>\n",
       "    </tr>\n",
       "    <tr>\n",
       "      <th>50%</th>\n",
       "      <td>1.000000</td>\n",
       "      <td>0.000000</td>\n",
       "      <td>0.000000</td>\n",
       "      <td>0.000000</td>\n",
       "      <td>1.000000</td>\n",
       "    </tr>\n",
       "    <tr>\n",
       "      <th>75%</th>\n",
       "      <td>1.000000</td>\n",
       "      <td>0.000000</td>\n",
       "      <td>0.000000</td>\n",
       "      <td>0.000000</td>\n",
       "      <td>2.000000</td>\n",
       "    </tr>\n",
       "    <tr>\n",
       "      <th>max</th>\n",
       "      <td>8.000000</td>\n",
       "      <td>349.000000</td>\n",
       "      <td>161.000000</td>\n",
       "      <td>380.000000</td>\n",
       "      <td>699.000000</td>\n",
       "    </tr>\n",
       "  </tbody>\n",
       "</table>\n",
       "</div>"
      ],
      "text/plain": [
       "       Number.of.Engines  Total.Fatal.Injuries  Total.Serious.Injuries  \\\n",
       "count       82805.000000          77488.000000            76379.000000   \n",
       "mean            1.146585              0.647855                0.279881   \n",
       "std             0.446510              5.485960                1.544084   \n",
       "min             0.000000              0.000000                0.000000   \n",
       "25%             1.000000              0.000000                0.000000   \n",
       "50%             1.000000              0.000000                0.000000   \n",
       "75%             1.000000              0.000000                0.000000   \n",
       "max             8.000000            349.000000              161.000000   \n",
       "\n",
       "       Total.Minor.Injuries  Total.Uninjured  \n",
       "count          76956.000000     82977.000000  \n",
       "mean               0.357061         5.325440  \n",
       "std                2.235625        27.913634  \n",
       "min                0.000000         0.000000  \n",
       "25%                0.000000         0.000000  \n",
       "50%                0.000000         1.000000  \n",
       "75%                0.000000         2.000000  \n",
       "max              380.000000       699.000000  "
      ]
     },
     "execution_count": 7,
     "metadata": {},
     "output_type": "execute_result"
    }
   ],
   "source": [
    "# View summary statistics\n",
    "df.describe()"
   ]
  },
  {
   "cell_type": "code",
   "execution_count": null,
   "metadata": {},
   "outputs": [],
   "source": []
  }
 ],
 "metadata": {
  "kernelspec": {
   "display_name": "learn-env",
   "language": "python",
   "name": "python3"
  },
  "language_info": {
   "codemirror_mode": {
    "name": "ipython",
    "version": 3
   },
   "file_extension": ".py",
   "mimetype": "text/x-python",
   "name": "python",
   "nbconvert_exporter": "python",
   "pygments_lexer": "ipython3",
   "version": "3.12.7"
  }
 },
 "nbformat": 4,
 "nbformat_minor": 2
}
